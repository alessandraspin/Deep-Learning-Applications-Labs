{
 "cells": [
  {
   "cell_type": "markdown",
   "id": "d97f7c5d-46f3-4cbd-80ad-f1e50cd65096",
   "metadata": {},
   "source": [
    "# Deep Learning Applications: Laboratory #1\n",
    "\n",
    "In this first laboratory we will work relatively simple architectures to get a feel for working with Deep Models. This notebook is designed to work with PyTorch, but as I said in the introductory lecture: please feel free to use and experiment with whatever tools you like.\n",
    "\n",
    "**Important Notes**:\n",
    "1. Be sure to **document** all of your decisions, as well as your intermediate and final results. Make sure your conclusions and analyses are clearly presented. Don't make us dig into your code or walls of printed results to try to draw conclusions from your code.\n",
    "2. If you use code from someone else (e.g. Github, Stack Overflow, ChatGPT, etc) you **must be transparent about it**. Document your sources and explain how you adapted any partial solutions to creat **your** solution.\n",
    "\n"
   ]
  },
  {
   "cell_type": "markdown",
   "id": "ef4de2f2-abc5-4f98-9eaf-3497f734a022",
   "metadata": {},
   "source": [
    "-----\n",
    "## Exercise 2: Choose at Least One\n",
    "\n",
    "Below are **three** exercises that ask you to deepen your understanding of Deep Networks for visual recognition. You must choose **at least one** of the below for your final submission -- feel free to do **more**, but at least **ONE** you must submit. Each exercise is designed to require you to dig your hands **deep** into the guts of your models in order to do new and interesting things.\n",
    "\n",
    "**Note**: These exercises are designed to use your small, custom CNNs and small datasets. This is to keep training times reasonable. If you have a decent GPU, feel free to use pretrained ResNets and larger datasets (e.g. the [Imagenette](https://pytorch.org/vision/0.20/generated/torchvision.datasets.Imagenette.html#torchvision.datasets.Imagenette) dataset at 160px)."
   ]
  },
  {
   "cell_type": "markdown",
   "id": "07978e8e-9f2e-4949-9699-495af6cb6349",
   "metadata": {},
   "source": [
    "### Exercise 2.1: *Fine-tune* a pre-trained model\n",
    "Train one of your residual CNN models from Exercise 1.3 on CIFAR-10. Then:\n",
    "1. Use the pre-trained model as a **feature extractor** (i.e. to extract the feature activations of the layer input into the classifier) on CIFAR-100. Use a **classical** approach (e.g. Linear SVM, K-Nearest Neighbor, or Bayesian Generative Classifier) from scikit-learn to establish a **stable baseline** performance on CIFAR-100 using the features extracted using your CNN.\n",
    "2. Fine-tune your CNN on the CIFAR-100 training set and compare with your stable baseline. Experiment with different strategies:\n",
    "    - Unfreeze some of the earlier layers for fine-tuning.\n",
    "    - Test different optimizers (Adam, SGD, etc.).\n",
    "\n",
    "Each of these steps will require you to modify your model definition in some way. For 1, you will need to return the activations of the last fully-connected layer (or the global average pooling layer). For 2, you will need to replace the original, 10-class classifier with a new, randomly-initialized 100-class classifier."
   ]
  },
  {
   "cell_type": "code",
   "execution_count": 1,
   "id": "469e81a3-08ca-4549-a2f8-f47cf5a0308b",
   "metadata": {
    "tags": []
   },
   "outputs": [],
   "source": [
    "import torch\n",
    "import torch.nn as nn\n",
    "import torch.optim as optim\n",
    "import torchvision\n",
    "import torchvision.transforms as transforms\n",
    "from torch.utils.data import DataLoader\n",
    "from torchvision import models\n",
    "import numpy as np\n",
    "from sklearn.svm import LinearSVC\n",
    "from sklearn.neighbors import KNeighborsClassifier\n",
    "from sklearn.preprocessing import StandardScaler\n",
    "from sklearn.pipeline import make_pipeline\n",
    "from sklearn.metrics import accuracy_score\n",
    "from types import SimpleNamespace\n",
    "from tqdm import tqdm\n",
    "import copy\n",
    "\n",
    "from src.trainer import trainer, trainer_ft\n",
    "from src.dataloader import get_cifar10_loaders, get_cifar100_loaders\n",
    "from src.config import get_config\n",
    "\n",
    "device = torch.device(\"cuda\" if torch.cuda.is_available() else \"cpu\")\n",
    "\n",
    "parser = get_config()\n",
    "config = parser.parse_args([])"
   ]
  },
  {
   "cell_type": "code",
   "execution_count": 2,
   "id": "1fe95260",
   "metadata": {},
   "outputs": [],
   "source": [
    "# RESNET ADAPTATION FOR CIFAR-10\n",
    "def get_resnet18_for_cifar(num_classes=10):\n",
    "    model = models.resnet18(weights=None)\n",
    "    model.conv1 = nn.Conv2d(3, 64, kernel_size=3, stride=1, padding=1, bias=False)\n",
    "    model.maxpool = nn.Identity()\n",
    "    model.fc = nn.Linear(model.fc.in_features, num_classes)\n",
    "    return model"
   ]
  },
  {
   "cell_type": "markdown",
   "id": "60ea2301",
   "metadata": {},
   "source": [
    "#### 1 - Pre-training on CIFAR-10"
   ]
  },
  {
   "cell_type": "code",
   "execution_count": 3,
   "id": "c3704c42",
   "metadata": {},
   "outputs": [
    {
     "name": "stdout",
     "output_type": "stream",
     "text": [
      "CIFAR-10 DataLoaders pronti.\n",
      "  - Training samples: 45000, Validation samples: 5000, Test samples: 10000\n"
     ]
    },
    {
     "name": "stderr",
     "output_type": "stream",
     "text": [
      "\u001b[34m\u001b[1mwandb\u001b[0m: Currently logged in as: \u001b[33malessandraspin\u001b[0m (\u001b[33malessandraspin-universit-di-firenze\u001b[0m) to \u001b[32mhttps://api.wandb.ai\u001b[0m. Use \u001b[1m`wandb login --relogin`\u001b[0m to force relogin\n"
     ]
    },
    {
     "data": {
      "text/html": [
       "Tracking run with wandb version 0.21.1"
      ],
      "text/plain": [
       "<IPython.core.display.HTML object>"
      ]
     },
     "metadata": {},
     "output_type": "display_data"
    },
    {
     "data": {
      "text/html": [
       "Run data is saved locally in <code>/home/aspinaci/Deep-Learning-Applications-Labs/LAB1/wandb/run-20250826_115059-wgs44w9w</code>"
      ],
      "text/plain": [
       "<IPython.core.display.HTML object>"
      ]
     },
     "metadata": {},
     "output_type": "display_data"
    },
    {
     "data": {
      "text/html": [
       "Syncing run <strong><a href='https://wandb.ai/alessandraspin-universit-di-firenze/LAB1-ex2/runs/wgs44w9w' target=\"_blank\">ResNet_resnet18_cifar10.pth</a></strong> to <a href='https://wandb.ai/alessandraspin-universit-di-firenze/LAB1-ex2' target=\"_blank\">Weights & Biases</a> (<a href='https://wandb.me/developer-guide' target=\"_blank\">docs</a>)<br>"
      ],
      "text/plain": [
       "<IPython.core.display.HTML object>"
      ]
     },
     "metadata": {},
     "output_type": "display_data"
    },
    {
     "data": {
      "text/html": [
       " View project at <a href='https://wandb.ai/alessandraspin-universit-di-firenze/LAB1-ex2' target=\"_blank\">https://wandb.ai/alessandraspin-universit-di-firenze/LAB1-ex2</a>"
      ],
      "text/plain": [
       "<IPython.core.display.HTML object>"
      ]
     },
     "metadata": {},
     "output_type": "display_data"
    },
    {
     "data": {
      "text/html": [
       " View run at <a href='https://wandb.ai/alessandraspin-universit-di-firenze/LAB1-ex2/runs/wgs44w9w' target=\"_blank\">https://wandb.ai/alessandraspin-universit-di-firenze/LAB1-ex2/runs/wgs44w9w</a>"
      ],
      "text/plain": [
       "<IPython.core.display.HTML object>"
      ]
     },
     "metadata": {},
     "output_type": "display_data"
    },
    {
     "name": "stdout",
     "output_type": "stream",
     "text": [
      "352 iterations per epoch\n",
      "\n",
      "--- STARTING TRAINING of ResNet ---\n"
     ]
    },
    {
     "name": "stderr",
     "output_type": "stream",
     "text": [
      "Training ResNet:   1%|▎                         | 1/100 [00:17<29:31, 17.90s/it]"
     ]
    },
    {
     "name": "stdout",
     "output_type": "stream",
     "text": [
      "Epoch 1: New best model saved to models2/resnet18_cifar10.pth with Val Acc: 0.3904\n"
     ]
    },
    {
     "name": "stderr",
     "output_type": "stream",
     "text": [
      "Training ResNet:   2%|▌                         | 2/100 [00:35<28:41, 17.57s/it]"
     ]
    },
    {
     "name": "stdout",
     "output_type": "stream",
     "text": [
      "Epoch 2: New best model saved to models2/resnet18_cifar10.pth with Val Acc: 0.5158\n"
     ]
    },
    {
     "name": "stderr",
     "output_type": "stream",
     "text": [
      "Training ResNet:   3%|▊                         | 3/100 [00:52<28:14, 17.47s/it]"
     ]
    },
    {
     "name": "stdout",
     "output_type": "stream",
     "text": [
      "Epoch 3: New best model saved to models2/resnet18_cifar10.pth with Val Acc: 0.5670\n"
     ]
    },
    {
     "name": "stderr",
     "output_type": "stream",
     "text": [
      "Training ResNet:   4%|█                         | 4/100 [01:09<27:46, 17.36s/it]"
     ]
    },
    {
     "name": "stdout",
     "output_type": "stream",
     "text": [
      "Epoch 4: New best model saved to models2/resnet18_cifar10.pth with Val Acc: 0.6388\n"
     ]
    },
    {
     "name": "stderr",
     "output_type": "stream",
     "text": [
      "Training ResNet:   6%|█▌                        | 6/100 [01:43<26:52, 17.15s/it]"
     ]
    },
    {
     "name": "stdout",
     "output_type": "stream",
     "text": [
      "Epoch 6: New best model saved to models2/resnet18_cifar10.pth with Val Acc: 0.7228\n"
     ]
    },
    {
     "name": "stderr",
     "output_type": "stream",
     "text": [
      "Training ResNet:   7%|█▊                        | 7/100 [02:00<26:33, 17.13s/it]"
     ]
    },
    {
     "name": "stdout",
     "output_type": "stream",
     "text": [
      "Epoch 7: New best model saved to models2/resnet18_cifar10.pth with Val Acc: 0.7330\n"
     ]
    },
    {
     "name": "stderr",
     "output_type": "stream",
     "text": [
      "Training ResNet:   9%|██▎                       | 9/100 [02:34<25:45, 16.98s/it]"
     ]
    },
    {
     "name": "stdout",
     "output_type": "stream",
     "text": [
      "Epoch 9: New best model saved to models2/resnet18_cifar10.pth with Val Acc: 0.7404\n"
     ]
    },
    {
     "name": "stderr",
     "output_type": "stream",
     "text": [
      "Training ResNet:  10%|██▌                      | 10/100 [02:51<25:25, 16.95s/it]"
     ]
    },
    {
     "name": "stdout",
     "output_type": "stream",
     "text": [
      "Epoch 10: New best model saved to models2/resnet18_cifar10.pth with Val Acc: 0.7844\n"
     ]
    },
    {
     "name": "stderr",
     "output_type": "stream",
     "text": [
      "Training ResNet:  12%|███                      | 12/100 [03:25<24:49, 16.92s/it]"
     ]
    },
    {
     "name": "stdout",
     "output_type": "stream",
     "text": [
      "Epoch 12: New best model saved to models2/resnet18_cifar10.pth with Val Acc: 0.8094\n"
     ]
    },
    {
     "name": "stderr",
     "output_type": "stream",
     "text": [
      "Training ResNet:  15%|███▊                     | 15/100 [04:15<23:47, 16.80s/it]"
     ]
    },
    {
     "name": "stdout",
     "output_type": "stream",
     "text": [
      "Epoch 15: New best model saved to models2/resnet18_cifar10.pth with Val Acc: 0.8188\n"
     ]
    },
    {
     "name": "stderr",
     "output_type": "stream",
     "text": [
      "Training ResNet:  16%|████                     | 16/100 [04:32<23:34, 16.84s/it]"
     ]
    },
    {
     "name": "stdout",
     "output_type": "stream",
     "text": [
      "Epoch 16: New best model saved to models2/resnet18_cifar10.pth with Val Acc: 0.8340\n"
     ]
    },
    {
     "name": "stderr",
     "output_type": "stream",
     "text": [
      "Training ResNet:  18%|████▌                    | 18/100 [05:05<22:58, 16.81s/it]"
     ]
    },
    {
     "name": "stdout",
     "output_type": "stream",
     "text": [
      "Epoch 18: New best model saved to models2/resnet18_cifar10.pth with Val Acc: 0.8402\n"
     ]
    },
    {
     "name": "stderr",
     "output_type": "stream",
     "text": [
      "Training ResNet:  19%|████▊                    | 19/100 [05:22<22:42, 16.82s/it]"
     ]
    },
    {
     "name": "stdout",
     "output_type": "stream",
     "text": [
      "Epoch 19: New best model saved to models2/resnet18_cifar10.pth with Val Acc: 0.8562\n"
     ]
    },
    {
     "name": "stderr",
     "output_type": "stream",
     "text": [
      "Training ResNet:  22%|█████▌                   | 22/100 [06:12<21:42, 16.70s/it]"
     ]
    },
    {
     "name": "stdout",
     "output_type": "stream",
     "text": [
      "Epoch 22: New best model saved to models2/resnet18_cifar10.pth with Val Acc: 0.8578\n"
     ]
    },
    {
     "name": "stderr",
     "output_type": "stream",
     "text": [
      "Training ResNet:  23%|█████▊                   | 23/100 [06:29<21:27, 16.72s/it]"
     ]
    },
    {
     "name": "stdout",
     "output_type": "stream",
     "text": [
      "Epoch 23: New best model saved to models2/resnet18_cifar10.pth with Val Acc: 0.8628\n"
     ]
    },
    {
     "name": "stderr",
     "output_type": "stream",
     "text": [
      "Training ResNet:  24%|██████                   | 24/100 [06:45<21:14, 16.76s/it]"
     ]
    },
    {
     "name": "stdout",
     "output_type": "stream",
     "text": [
      "Epoch 24: New best model saved to models2/resnet18_cifar10.pth with Val Acc: 0.8682\n"
     ]
    },
    {
     "name": "stderr",
     "output_type": "stream",
     "text": [
      "Training ResNet:  26%|██████▌                  | 26/100 [07:19<20:37, 16.72s/it]"
     ]
    },
    {
     "name": "stdout",
     "output_type": "stream",
     "text": [
      "Epoch 26: New best model saved to models2/resnet18_cifar10.pth with Val Acc: 0.8730\n"
     ]
    },
    {
     "name": "stderr",
     "output_type": "stream",
     "text": [
      "Training ResNet:  28%|███████                  | 28/100 [07:52<20:04, 16.73s/it]"
     ]
    },
    {
     "name": "stdout",
     "output_type": "stream",
     "text": [
      "Epoch 28: New best model saved to models2/resnet18_cifar10.pth with Val Acc: 0.8760\n"
     ]
    },
    {
     "name": "stderr",
     "output_type": "stream",
     "text": [
      "Training ResNet:  29%|███████▏                 | 29/100 [08:09<19:49, 16.76s/it]"
     ]
    },
    {
     "name": "stdout",
     "output_type": "stream",
     "text": [
      "Epoch 29: New best model saved to models2/resnet18_cifar10.pth with Val Acc: 0.8812\n"
     ]
    },
    {
     "name": "stderr",
     "output_type": "stream",
     "text": [
      "Training ResNet:  35%|████████▊                | 35/100 [09:49<18:02, 16.66s/it]"
     ]
    },
    {
     "name": "stdout",
     "output_type": "stream",
     "text": [
      "Epoch 35: New best model saved to models2/resnet18_cifar10.pth with Val Acc: 0.8840\n"
     ]
    },
    {
     "name": "stderr",
     "output_type": "stream",
     "text": [
      "Training ResNet:  38%|█████████▌               | 38/100 [10:39<17:12, 16.66s/it]"
     ]
    },
    {
     "name": "stdout",
     "output_type": "stream",
     "text": [
      "Epoch 38: New best model saved to models2/resnet18_cifar10.pth with Val Acc: 0.8844\n"
     ]
    },
    {
     "name": "stderr",
     "output_type": "stream",
     "text": [
      "Training ResNet:  39%|█████████▊               | 39/100 [10:56<17:02, 16.77s/it]"
     ]
    },
    {
     "name": "stdout",
     "output_type": "stream",
     "text": [
      "Epoch 39: New best model saved to models2/resnet18_cifar10.pth with Val Acc: 0.8856\n"
     ]
    },
    {
     "name": "stderr",
     "output_type": "stream",
     "text": [
      "Training ResNet:  42%|██████████▌              | 42/100 [11:45<16:08, 16.71s/it]"
     ]
    },
    {
     "name": "stdout",
     "output_type": "stream",
     "text": [
      "Epoch 42: New best model saved to models2/resnet18_cifar10.pth with Val Acc: 0.8866\n"
     ]
    },
    {
     "name": "stderr",
     "output_type": "stream",
     "text": [
      "Training ResNet:  45%|███████████▎             | 45/100 [12:36<15:19, 16.72s/it]"
     ]
    },
    {
     "name": "stdout",
     "output_type": "stream",
     "text": [
      "Epoch 45: New best model saved to models2/resnet18_cifar10.pth with Val Acc: 0.8876\n"
     ]
    },
    {
     "name": "stderr",
     "output_type": "stream",
     "text": [
      "Training ResNet:  48%|████████████             | 48/100 [13:26<14:28, 16.71s/it]"
     ]
    },
    {
     "name": "stdout",
     "output_type": "stream",
     "text": [
      "Epoch 48: New best model saved to models2/resnet18_cifar10.pth with Val Acc: 0.8878\n"
     ]
    },
    {
     "name": "stderr",
     "output_type": "stream",
     "text": [
      "Training ResNet:  50%|████████████▌            | 50/100 [13:59<13:55, 16.71s/it]"
     ]
    },
    {
     "name": "stdout",
     "output_type": "stream",
     "text": [
      "Epoch 50: New best model saved to models2/resnet18_cifar10.pth with Val Acc: 0.8890\n"
     ]
    },
    {
     "name": "stderr",
     "output_type": "stream",
     "text": [
      "Training ResNet:  51%|████████████▊            | 51/100 [14:16<13:41, 16.76s/it]"
     ]
    },
    {
     "name": "stdout",
     "output_type": "stream",
     "text": [
      "Epoch 51: New best model saved to models2/resnet18_cifar10.pth with Val Acc: 0.8892\n"
     ]
    },
    {
     "name": "stderr",
     "output_type": "stream",
     "text": [
      "Training ResNet: 100%|████████████████████████| 100/100 [27:48<00:00, 16.69s/it]\n"
     ]
    },
    {
     "data": {
      "text/html": [],
      "text/plain": [
       "<IPython.core.display.HTML object>"
      ]
     },
     "metadata": {},
     "output_type": "display_data"
    },
    {
     "data": {
      "text/html": [
       "<br>    <style><br>        .wandb-row {<br>            display: flex;<br>            flex-direction: row;<br>            flex-wrap: wrap;<br>            justify-content: flex-start;<br>            width: 100%;<br>        }<br>        .wandb-col {<br>            display: flex;<br>            flex-direction: column;<br>            flex-basis: 100%;<br>            flex: 1;<br>            padding: 10px;<br>        }<br>    </style><br><div class=\"wandb-row\"><div class=\"wandb-col\"><h3>Run history:</h3><br/><table class=\"wandb\"><tr><td>train/loss</td><td>█▅▅▃▃▂▂▂▂▂▁▁▁▁▁▁▁▁▁▁▁▁▁▁▁▁▁▁▁▁▁▁▁▁▁▁▁▁▁▁</td></tr><tr><td>train/lr</td><td>█▇▇▆▆▄▃▃▃▃▂▂▁▁▁▁▁▁▁▁▁▁▁▁▁▁▁▁▁▁▁▁▁▁▁▁▁▁▁▁</td></tr><tr><td>val/accuracy</td><td>▁▄▄▅▆▆▇▇████████████████████████████████</td></tr><tr><td>val/loss</td><td>█▆▄▆▃▃▃▂▂▂▁▁▁▁▁▁▁▁▁▁▁▁▁▁▁▁▁▁▁▁▁▁▁▁▁▁▁▁▁▁</td></tr></table><br/></div><div class=\"wandb-col\"><h3>Run summary:</h3><br/><table class=\"wandb\"><tr><td>train/loss</td><td>0.1395</td></tr><tr><td>train/lr</td><td>0.0</td></tr><tr><td>val/accuracy</td><td>0.8872</td></tr><tr><td>val/loss</td><td>0.38111</td></tr></table><br/></div></div>"
      ],
      "text/plain": [
       "<IPython.core.display.HTML object>"
      ]
     },
     "metadata": {},
     "output_type": "display_data"
    },
    {
     "data": {
      "text/html": [
       " View run <strong style=\"color:#cdcd00\">ResNet_resnet18_cifar10.pth</strong> at: <a href='https://wandb.ai/alessandraspin-universit-di-firenze/LAB1-ex2/runs/wgs44w9w' target=\"_blank\">https://wandb.ai/alessandraspin-universit-di-firenze/LAB1-ex2/runs/wgs44w9w</a><br> View project at: <a href='https://wandb.ai/alessandraspin-universit-di-firenze/LAB1-ex2' target=\"_blank\">https://wandb.ai/alessandraspin-universit-di-firenze/LAB1-ex2</a><br>Synced 5 W&B file(s), 0 media file(s), 0 artifact file(s) and 0 other file(s)"
      ],
      "text/plain": [
       "<IPython.core.display.HTML object>"
      ]
     },
     "metadata": {},
     "output_type": "display_data"
    },
    {
     "data": {
      "text/html": [
       "Find logs at: <code>./wandb/run-20250826_115059-wgs44w9w/logs</code>"
      ],
      "text/plain": [
       "<IPython.core.display.HTML object>"
      ]
     },
     "metadata": {},
     "output_type": "display_data"
    },
    {
     "name": "stdout",
     "output_type": "stream",
     "text": [
      "\n",
      "--- FINISHED TRAINING. Best Val Acc: 0.8892 ---\n"
     ]
    },
    {
     "data": {
      "text/plain": [
       "0.8892"
      ]
     },
     "execution_count": 3,
     "metadata": {},
     "output_type": "execute_result"
    }
   ],
   "source": [
    "cifar10_train_loader, cifar10_val_loader, _ = get_cifar10_loaders(config)\n",
    "pretrained_model = get_resnet18_for_cifar(num_classes=10).to(device)\n",
    "pretrain_save_path = \"models2/resnet18_cifar10.pth\"\n",
    "\n",
    "# Aggiorna la config per questo specifico training\n",
    "pretrain_config = parser.parse_args([])\n",
    "pretrain_config.max_epoch = 100\n",
    "pretrain_config.lr = 0.01\n",
    "pretrain_config.batch_size = 128\n",
    "pretrain_config.optimizer = 'Adam'\n",
    "pretrain_config.dataset = 'CIFAR10'\n",
    "\n",
    "trainer_ft(\n",
    "    model=pretrained_model,\n",
    "    dl_train=cifar10_train_loader,\n",
    "    dl_val=cifar10_val_loader,\n",
    "    device=device,\n",
    "    save_path=pretrain_save_path,\n",
    "    config_args=pretrain_config\n",
    ")"
   ]
  },
  {
   "cell_type": "markdown",
   "id": "0a3e9836",
   "metadata": {},
   "source": [
    "#### 2 - Feature Extractor and baseline"
   ]
  },
  {
   "cell_type": "code",
   "execution_count": 4,
   "id": "9e33c912-0716-44ef-a91b-47ca19a2b2cd",
   "metadata": {
    "tags": []
   },
   "outputs": [
    {
     "name": "stdout",
     "output_type": "stream",
     "text": [
      "Caricamento dei dati CIFAR-100...\n",
      "CIFAR-100 DataLoaders pronti.\n",
      "  - Training samples: 45000, Validation samples: 5000, Test samples: 10000\n"
     ]
    },
    {
     "name": "stderr",
     "output_type": "stream",
     "text": [
      "Extracting features: 100%|██████████| 352/352 [00:05<00:00, 66.36it/s]\n",
      "Extracting features: 100%|██████████| 79/79 [00:01<00:00, 56.79it/s]\n"
     ]
    }
   ],
   "source": [
    "cifar100_train_loader, cifar100_val_loader, cifar100_test_loader = get_cifar100_loaders(config)\n",
    "\n",
    "feature_extractor = get_resnet18_for_cifar(num_classes=10)\n",
    "feature_extractor.load_state_dict(torch.load(pretrain_save_path))\n",
    "feature_extractor = nn.Sequential(*list(feature_extractor.children())[:-1]).to(device).eval()\n",
    "\n",
    "def extract_features(loader, model, device):\n",
    "    features, labels = [], []\n",
    "    with torch.no_grad():\n",
    "        for inputs, targets in tqdm(loader, desc=\"Extracting features\"):\n",
    "            feats = model(inputs.to(device)).view(inputs.size(0), -1)\n",
    "            features.append(feats.cpu().numpy())\n",
    "            labels.append(targets.cpu().numpy())\n",
    "    return np.concatenate(features), np.concatenate(labels)\n",
    "\n",
    "X_train, y_train = extract_features(cifar100_train_loader, feature_extractor, device)\n",
    "X_test, y_test = extract_features(cifar100_test_loader, feature_extractor, device)"
   ]
  },
  {
   "cell_type": "code",
   "execution_count": 5,
   "id": "3af7cbae",
   "metadata": {},
   "outputs": [
    {
     "name": "stdout",
     "output_type": "stream",
     "text": [
      "Baseline (Linear SVM) Accuracy: 34.51%\n",
      "Baseline (KNN) Accuracy: 25.14%\n"
     ]
    }
   ],
   "source": [
    "# Baseline with Linear SVM\n",
    "svm_classifier = make_pipeline(StandardScaler(), LinearSVC(dual=\"auto\", tol=1e-5))\n",
    "svm_classifier.fit(X_train, y_train)\n",
    "svm_accuracy = svm_classifier.score(X_test, y_test) * 100\n",
    "print(f\"Baseline (Linear SVM) Accuracy: {svm_accuracy:.2f}%\")\n",
    "\n",
    "# Baseline with Linear kNN\n",
    "knn_classifier = make_pipeline(StandardScaler(), KNeighborsClassifier(n_neighbors=10))\n",
    "knn_classifier.fit(X_train, y_train)\n",
    "knn_accuracy = knn_classifier.score(X_test, y_test) * 100\n",
    "print(f\"Baseline (KNN) Accuracy: {knn_accuracy:.2f}%\")"
   ]
  },
  {
   "cell_type": "markdown",
   "id": "0bb1a593",
   "metadata": {},
   "source": [
    "#### 3 - Fine-Tuning on CIFAR-100"
   ]
  },
  {
   "cell_type": "code",
   "execution_count": 7,
   "id": "358d410c",
   "metadata": {},
   "outputs": [
    {
     "name": "stdout",
     "output_type": "stream",
     "text": [
      "\n",
      "--- Strategy 2.1: Fine-tune only the classifier (with Adam) ---\n"
     ]
    },
    {
     "data": {
      "text/html": [
       "Tracking run with wandb version 0.21.1"
      ],
      "text/plain": [
       "<IPython.core.display.HTML object>"
      ]
     },
     "metadata": {},
     "output_type": "display_data"
    },
    {
     "data": {
      "text/html": [
       "Run data is saved locally in <code>/home/aspinaci/Deep-Learning-Applications-Labs/LAB1/wandb/run-20250826_141051-ixkxspr4</code>"
      ],
      "text/plain": [
       "<IPython.core.display.HTML object>"
      ]
     },
     "metadata": {},
     "output_type": "display_data"
    },
    {
     "data": {
      "text/html": [
       "Syncing run <strong><a href='https://wandb.ai/alessandraspin-universit-di-firenze/LAB1-ex2/runs/ixkxspr4' target=\"_blank\">ResNet_ft_classifier.pth</a></strong> to <a href='https://wandb.ai/alessandraspin-universit-di-firenze/LAB1-ex2' target=\"_blank\">Weights & Biases</a> (<a href='https://wandb.me/developer-guide' target=\"_blank\">docs</a>)<br>"
      ],
      "text/plain": [
       "<IPython.core.display.HTML object>"
      ]
     },
     "metadata": {},
     "output_type": "display_data"
    },
    {
     "data": {
      "text/html": [
       " View project at <a href='https://wandb.ai/alessandraspin-universit-di-firenze/LAB1-ex2' target=\"_blank\">https://wandb.ai/alessandraspin-universit-di-firenze/LAB1-ex2</a>"
      ],
      "text/plain": [
       "<IPython.core.display.HTML object>"
      ]
     },
     "metadata": {},
     "output_type": "display_data"
    },
    {
     "data": {
      "text/html": [
       " View run at <a href='https://wandb.ai/alessandraspin-universit-di-firenze/LAB1-ex2/runs/ixkxspr4' target=\"_blank\">https://wandb.ai/alessandraspin-universit-di-firenze/LAB1-ex2/runs/ixkxspr4</a>"
      ],
      "text/plain": [
       "<IPython.core.display.HTML object>"
      ]
     },
     "metadata": {},
     "output_type": "display_data"
    },
    {
     "name": "stdout",
     "output_type": "stream",
     "text": [
      "352 iterations per epoch\n",
      "\n",
      "--- STARTING TRAINING of ResNet ---\n"
     ]
    },
    {
     "name": "stderr",
     "output_type": "stream",
     "text": [
      "Training ResNet:   3%|▉                          | 1/30 [00:06<03:08,  6.49s/it]"
     ]
    },
    {
     "name": "stdout",
     "output_type": "stream",
     "text": [
      "Epoch 1: New best model saved to models2/ft_classifier.pth with Val Acc: 0.2020\n"
     ]
    },
    {
     "name": "stderr",
     "output_type": "stream",
     "text": [
      "Training ResNet:   7%|█▊                         | 2/30 [00:13<03:02,  6.53s/it]"
     ]
    },
    {
     "name": "stdout",
     "output_type": "stream",
     "text": [
      "Epoch 2: New best model saved to models2/ft_classifier.pth with Val Acc: 0.2274\n"
     ]
    },
    {
     "name": "stderr",
     "output_type": "stream",
     "text": [
      "Training ResNet:  10%|██▋                        | 3/30 [00:19<02:54,  6.47s/it]"
     ]
    },
    {
     "name": "stdout",
     "output_type": "stream",
     "text": [
      "Epoch 3: New best model saved to models2/ft_classifier.pth with Val Acc: 0.2462\n"
     ]
    },
    {
     "name": "stderr",
     "output_type": "stream",
     "text": [
      "Training ResNet:  13%|███▌                       | 4/30 [00:25<02:48,  6.47s/it]"
     ]
    },
    {
     "name": "stdout",
     "output_type": "stream",
     "text": [
      "Epoch 4: New best model saved to models2/ft_classifier.pth with Val Acc: 0.2478\n"
     ]
    },
    {
     "name": "stderr",
     "output_type": "stream",
     "text": [
      "Training ResNet:  17%|████▌                      | 5/30 [00:32<02:41,  6.47s/it]"
     ]
    },
    {
     "name": "stdout",
     "output_type": "stream",
     "text": [
      "Epoch 5: New best model saved to models2/ft_classifier.pth with Val Acc: 0.2510\n"
     ]
    },
    {
     "name": "stderr",
     "output_type": "stream",
     "text": [
      "Training ResNet:  20%|█████▍                     | 6/30 [00:38<02:35,  6.48s/it]"
     ]
    },
    {
     "name": "stdout",
     "output_type": "stream",
     "text": [
      "Epoch 6: New best model saved to models2/ft_classifier.pth with Val Acc: 0.2562\n"
     ]
    },
    {
     "name": "stderr",
     "output_type": "stream",
     "text": [
      "Training ResNet:  23%|██████▎                    | 7/30 [00:45<02:28,  6.47s/it]"
     ]
    },
    {
     "name": "stdout",
     "output_type": "stream",
     "text": [
      "Epoch 7: New best model saved to models2/ft_classifier.pth with Val Acc: 0.2632\n"
     ]
    },
    {
     "name": "stderr",
     "output_type": "stream",
     "text": [
      "Training ResNet:  30%|████████                   | 9/30 [00:57<02:14,  6.40s/it]"
     ]
    },
    {
     "name": "stdout",
     "output_type": "stream",
     "text": [
      "Epoch 9: New best model saved to models2/ft_classifier.pth with Val Acc: 0.2670\n"
     ]
    },
    {
     "name": "stderr",
     "output_type": "stream",
     "text": [
      "Training ResNet:  33%|████████▋                 | 10/30 [01:04<02:08,  6.41s/it]"
     ]
    },
    {
     "name": "stdout",
     "output_type": "stream",
     "text": [
      "Epoch 10: New best model saved to models2/ft_classifier.pth with Val Acc: 0.2704\n"
     ]
    },
    {
     "name": "stderr",
     "output_type": "stream",
     "text": [
      "Training ResNet:  40%|██████████▍               | 12/30 [01:17<01:54,  6.38s/it]"
     ]
    },
    {
     "name": "stdout",
     "output_type": "stream",
     "text": [
      "Epoch 12: New best model saved to models2/ft_classifier.pth with Val Acc: 0.2708\n"
     ]
    },
    {
     "name": "stderr",
     "output_type": "stream",
     "text": [
      "Training ResNet:  43%|███████████▎              | 13/30 [01:23<01:48,  6.41s/it]"
     ]
    },
    {
     "name": "stdout",
     "output_type": "stream",
     "text": [
      "Epoch 13: New best model saved to models2/ft_classifier.pth with Val Acc: 0.2732\n"
     ]
    },
    {
     "name": "stderr",
     "output_type": "stream",
     "text": [
      "Training ResNet:  50%|█████████████             | 15/30 [01:36<01:35,  6.34s/it]"
     ]
    },
    {
     "name": "stdout",
     "output_type": "stream",
     "text": [
      "Epoch 15: New best model saved to models2/ft_classifier.pth with Val Acc: 0.2740\n"
     ]
    },
    {
     "name": "stderr",
     "output_type": "stream",
     "text": [
      "Training ResNet:  57%|██████████████▋           | 17/30 [01:48<01:22,  6.34s/it]"
     ]
    },
    {
     "name": "stdout",
     "output_type": "stream",
     "text": [
      "Epoch 17: New best model saved to models2/ft_classifier.pth with Val Acc: 0.2754\n"
     ]
    },
    {
     "name": "stderr",
     "output_type": "stream",
     "text": [
      "Training ResNet:  63%|████████████████▍         | 19/30 [02:01<01:09,  6.36s/it]"
     ]
    },
    {
     "name": "stdout",
     "output_type": "stream",
     "text": [
      "Epoch 19: New best model saved to models2/ft_classifier.pth with Val Acc: 0.2772\n"
     ]
    },
    {
     "name": "stderr",
     "output_type": "stream",
     "text": [
      "Training ResNet:  67%|█████████████████▎        | 20/30 [02:07<01:04,  6.41s/it]"
     ]
    },
    {
     "name": "stdout",
     "output_type": "stream",
     "text": [
      "Epoch 20: New best model saved to models2/ft_classifier.pth with Val Acc: 0.2788\n"
     ]
    },
    {
     "name": "stderr",
     "output_type": "stream",
     "text": [
      "Training ResNet:  80%|████████████████████▊     | 24/30 [02:32<00:37,  6.29s/it]"
     ]
    },
    {
     "name": "stdout",
     "output_type": "stream",
     "text": [
      "Epoch 24: New best model saved to models2/ft_classifier.pth with Val Acc: 0.2792\n"
     ]
    },
    {
     "name": "stderr",
     "output_type": "stream",
     "text": [
      "Training ResNet:  97%|█████████████████████████▏| 29/30 [03:03<00:06,  6.28s/it]"
     ]
    },
    {
     "name": "stdout",
     "output_type": "stream",
     "text": [
      "Epoch 29: New best model saved to models2/ft_classifier.pth with Val Acc: 0.2804\n"
     ]
    },
    {
     "name": "stderr",
     "output_type": "stream",
     "text": [
      "Training ResNet: 100%|██████████████████████████| 30/30 [03:10<00:00,  6.34s/it]\n"
     ]
    },
    {
     "data": {
      "text/html": [],
      "text/plain": [
       "<IPython.core.display.HTML object>"
      ]
     },
     "metadata": {},
     "output_type": "display_data"
    },
    {
     "data": {
      "text/html": [
       "<br>    <style><br>        .wandb-row {<br>            display: flex;<br>            flex-direction: row;<br>            flex-wrap: wrap;<br>            justify-content: flex-start;<br>            width: 100%;<br>        }<br>        .wandb-col {<br>            display: flex;<br>            flex-direction: column;<br>            flex-basis: 100%;<br>            flex: 1;<br>            padding: 10px;<br>        }<br>    </style><br><div class=\"wandb-row\"><div class=\"wandb-col\"><h3>Run history:</h3><br/><table class=\"wandb\"><tr><td>train/loss</td><td>█▄▃▃▂▂▂▂▂▁▁▁▁▁▁▁▁▁▁▁▁▁▁▁▁▁▁▁▁▁</td></tr><tr><td>train/lr</td><td>█▇▇▆▅▅▅▄▄▃▃▃▃▃▂▂▂▂▂▂▂▁▁▁▁▁▁▁▁▁</td></tr><tr><td>val/accuracy</td><td>▁▃▅▅▅▆▆▆▇▇▇▇▇▇▇▇█▇████████████</td></tr><tr><td>val/loss</td><td>█▅▄▃▃▂▂▂▂▂▂▂▁▁▁▁▁▁▁▁▁▁▁▁▁▁▁▁▁▁</td></tr></table><br/></div><div class=\"wandb-col\"><h3>Run summary:</h3><br/><table class=\"wandb\"><tr><td>train/loss</td><td>2.91958</td></tr><tr><td>train/lr</td><td>5e-05</td></tr><tr><td>val/accuracy</td><td>0.2776</td></tr><tr><td>val/loss</td><td>2.86765</td></tr></table><br/></div></div>"
      ],
      "text/plain": [
       "<IPython.core.display.HTML object>"
      ]
     },
     "metadata": {},
     "output_type": "display_data"
    },
    {
     "data": {
      "text/html": [
       " View run <strong style=\"color:#cdcd00\">ResNet_ft_classifier.pth</strong> at: <a href='https://wandb.ai/alessandraspin-universit-di-firenze/LAB1-ex2/runs/ixkxspr4' target=\"_blank\">https://wandb.ai/alessandraspin-universit-di-firenze/LAB1-ex2/runs/ixkxspr4</a><br> View project at: <a href='https://wandb.ai/alessandraspin-universit-di-firenze/LAB1-ex2' target=\"_blank\">https://wandb.ai/alessandraspin-universit-di-firenze/LAB1-ex2</a><br>Synced 5 W&B file(s), 0 media file(s), 0 artifact file(s) and 0 other file(s)"
      ],
      "text/plain": [
       "<IPython.core.display.HTML object>"
      ]
     },
     "metadata": {},
     "output_type": "display_data"
    },
    {
     "data": {
      "text/html": [
       "Find logs at: <code>./wandb/run-20250826_141051-ixkxspr4/logs</code>"
      ],
      "text/plain": [
       "<IPython.core.display.HTML object>"
      ]
     },
     "metadata": {},
     "output_type": "display_data"
    },
    {
     "name": "stdout",
     "output_type": "stream",
     "text": [
      "\n",
      "--- FINISHED TRAINING. Best Val Acc: 0.2804 ---\n",
      "\n",
      "--- Strategy 2.2: Fine-tuning the classifier and last block (SGD) ---\n"
     ]
    },
    {
     "data": {
      "text/html": [
       "Tracking run with wandb version 0.21.1"
      ],
      "text/plain": [
       "<IPython.core.display.HTML object>"
      ]
     },
     "metadata": {},
     "output_type": "display_data"
    },
    {
     "data": {
      "text/html": [
       "Run data is saved locally in <code>/home/aspinaci/Deep-Learning-Applications-Labs/LAB1/wandb/run-20250826_141404-9to6vqhz</code>"
      ],
      "text/plain": [
       "<IPython.core.display.HTML object>"
      ]
     },
     "metadata": {},
     "output_type": "display_data"
    },
    {
     "data": {
      "text/html": [
       "Syncing run <strong><a href='https://wandb.ai/alessandraspin-universit-di-firenze/LAB1-ex2/runs/9to6vqhz' target=\"_blank\">ResNet_ft_layer4.pth</a></strong> to <a href='https://wandb.ai/alessandraspin-universit-di-firenze/LAB1-ex2' target=\"_blank\">Weights & Biases</a> (<a href='https://wandb.me/developer-guide' target=\"_blank\">docs</a>)<br>"
      ],
      "text/plain": [
       "<IPython.core.display.HTML object>"
      ]
     },
     "metadata": {},
     "output_type": "display_data"
    },
    {
     "data": {
      "text/html": [
       " View project at <a href='https://wandb.ai/alessandraspin-universit-di-firenze/LAB1-ex2' target=\"_blank\">https://wandb.ai/alessandraspin-universit-di-firenze/LAB1-ex2</a>"
      ],
      "text/plain": [
       "<IPython.core.display.HTML object>"
      ]
     },
     "metadata": {},
     "output_type": "display_data"
    },
    {
     "data": {
      "text/html": [
       " View run at <a href='https://wandb.ai/alessandraspin-universit-di-firenze/LAB1-ex2/runs/9to6vqhz' target=\"_blank\">https://wandb.ai/alessandraspin-universit-di-firenze/LAB1-ex2/runs/9to6vqhz</a>"
      ],
      "text/plain": [
       "<IPython.core.display.HTML object>"
      ]
     },
     "metadata": {},
     "output_type": "display_data"
    },
    {
     "name": "stdout",
     "output_type": "stream",
     "text": [
      "352 iterations per epoch\n",
      "\n",
      "--- STARTING TRAINING of ResNet ---\n"
     ]
    },
    {
     "name": "stderr",
     "output_type": "stream",
     "text": [
      "Training ResNet:   3%|▉                          | 1/30 [00:07<03:50,  7.96s/it]"
     ]
    },
    {
     "name": "stdout",
     "output_type": "stream",
     "text": [
      "Epoch 1: New best model saved to models2/ft_layer4.pth with Val Acc: 0.1792\n"
     ]
    },
    {
     "name": "stderr",
     "output_type": "stream",
     "text": [
      "Training ResNet:   7%|█▊                         | 2/30 [00:15<03:41,  7.90s/it]"
     ]
    },
    {
     "name": "stdout",
     "output_type": "stream",
     "text": [
      "Epoch 2: New best model saved to models2/ft_layer4.pth with Val Acc: 0.2216\n"
     ]
    },
    {
     "name": "stderr",
     "output_type": "stream",
     "text": [
      "Training ResNet:  10%|██▋                        | 3/30 [00:23<03:33,  7.91s/it]"
     ]
    },
    {
     "name": "stdout",
     "output_type": "stream",
     "text": [
      "Epoch 3: New best model saved to models2/ft_layer4.pth with Val Acc: 0.2518\n"
     ]
    },
    {
     "name": "stderr",
     "output_type": "stream",
     "text": [
      "Training ResNet:  13%|███▌                       | 4/30 [00:31<03:25,  7.91s/it]"
     ]
    },
    {
     "name": "stdout",
     "output_type": "stream",
     "text": [
      "Epoch 4: New best model saved to models2/ft_layer4.pth with Val Acc: 0.2662\n"
     ]
    },
    {
     "name": "stderr",
     "output_type": "stream",
     "text": [
      "Training ResNet:  17%|████▌                      | 5/30 [00:39<03:17,  7.91s/it]"
     ]
    },
    {
     "name": "stdout",
     "output_type": "stream",
     "text": [
      "Epoch 5: New best model saved to models2/ft_layer4.pth with Val Acc: 0.2904\n"
     ]
    },
    {
     "name": "stderr",
     "output_type": "stream",
     "text": [
      "Training ResNet:  20%|█████▍                     | 6/30 [00:47<03:09,  7.89s/it]"
     ]
    },
    {
     "name": "stdout",
     "output_type": "stream",
     "text": [
      "Epoch 6: New best model saved to models2/ft_layer4.pth with Val Acc: 0.3048\n"
     ]
    },
    {
     "name": "stderr",
     "output_type": "stream",
     "text": [
      "Training ResNet:  23%|██████▎                    | 7/30 [00:55<03:01,  7.88s/it]"
     ]
    },
    {
     "name": "stdout",
     "output_type": "stream",
     "text": [
      "Epoch 7: New best model saved to models2/ft_layer4.pth with Val Acc: 0.3194\n"
     ]
    },
    {
     "name": "stderr",
     "output_type": "stream",
     "text": [
      "Training ResNet:  27%|███████▏                   | 8/30 [01:03<02:53,  7.88s/it]"
     ]
    },
    {
     "name": "stdout",
     "output_type": "stream",
     "text": [
      "Epoch 8: New best model saved to models2/ft_layer4.pth with Val Acc: 0.3310\n"
     ]
    },
    {
     "name": "stderr",
     "output_type": "stream",
     "text": [
      "Training ResNet:  30%|████████                   | 9/30 [01:11<02:45,  7.90s/it]"
     ]
    },
    {
     "name": "stdout",
     "output_type": "stream",
     "text": [
      "Epoch 9: New best model saved to models2/ft_layer4.pth with Val Acc: 0.3362\n"
     ]
    },
    {
     "name": "stderr",
     "output_type": "stream",
     "text": [
      "Training ResNet:  33%|████████▋                 | 10/30 [01:19<02:38,  7.92s/it]"
     ]
    },
    {
     "name": "stdout",
     "output_type": "stream",
     "text": [
      "Epoch 10: New best model saved to models2/ft_layer4.pth with Val Acc: 0.3448\n"
     ]
    },
    {
     "name": "stderr",
     "output_type": "stream",
     "text": [
      "Training ResNet:  37%|█████████▌                | 11/30 [01:26<02:30,  7.91s/it]"
     ]
    },
    {
     "name": "stdout",
     "output_type": "stream",
     "text": [
      "Epoch 11: New best model saved to models2/ft_layer4.pth with Val Acc: 0.3534\n"
     ]
    },
    {
     "name": "stderr",
     "output_type": "stream",
     "text": [
      "Training ResNet:  43%|███████████▎              | 13/30 [01:42<02:13,  7.84s/it]"
     ]
    },
    {
     "name": "stdout",
     "output_type": "stream",
     "text": [
      "Epoch 13: New best model saved to models2/ft_layer4.pth with Val Acc: 0.3558\n"
     ]
    },
    {
     "name": "stderr",
     "output_type": "stream",
     "text": [
      "Training ResNet:  47%|████████████▏             | 14/30 [01:50<02:05,  7.86s/it]"
     ]
    },
    {
     "name": "stdout",
     "output_type": "stream",
     "text": [
      "Epoch 14: New best model saved to models2/ft_layer4.pth with Val Acc: 0.3618\n"
     ]
    },
    {
     "name": "stderr",
     "output_type": "stream",
     "text": [
      "Training ResNet:  50%|█████████████             | 15/30 [01:58<01:58,  7.90s/it]"
     ]
    },
    {
     "name": "stdout",
     "output_type": "stream",
     "text": [
      "Epoch 15: New best model saved to models2/ft_layer4.pth with Val Acc: 0.3636\n"
     ]
    },
    {
     "name": "stderr",
     "output_type": "stream",
     "text": [
      "Training ResNet:  53%|█████████████▊            | 16/30 [02:06<01:50,  7.90s/it]"
     ]
    },
    {
     "name": "stdout",
     "output_type": "stream",
     "text": [
      "Epoch 16: New best model saved to models2/ft_layer4.pth with Val Acc: 0.3710\n"
     ]
    },
    {
     "name": "stderr",
     "output_type": "stream",
     "text": [
      "Training ResNet:  63%|████████████████▍         | 19/30 [02:29<01:25,  7.78s/it]"
     ]
    },
    {
     "name": "stdout",
     "output_type": "stream",
     "text": [
      "Epoch 19: New best model saved to models2/ft_layer4.pth with Val Acc: 0.3800\n"
     ]
    },
    {
     "name": "stderr",
     "output_type": "stream",
     "text": [
      "Training ResNet:  77%|███████████████████▉      | 23/30 [03:00<00:54,  7.75s/it]"
     ]
    },
    {
     "name": "stdout",
     "output_type": "stream",
     "text": [
      "Epoch 23: New best model saved to models2/ft_layer4.pth with Val Acc: 0.3814\n"
     ]
    },
    {
     "name": "stderr",
     "output_type": "stream",
     "text": [
      "Training ResNet:  90%|███████████████████████▍  | 27/30 [03:30<00:23,  7.73s/it]"
     ]
    },
    {
     "name": "stdout",
     "output_type": "stream",
     "text": [
      "Epoch 27: New best model saved to models2/ft_layer4.pth with Val Acc: 0.3848\n"
     ]
    },
    {
     "name": "stderr",
     "output_type": "stream",
     "text": [
      "Training ResNet:  97%|█████████████████████████▏| 29/30 [03:46<00:07,  7.78s/it]"
     ]
    },
    {
     "name": "stdout",
     "output_type": "stream",
     "text": [
      "Epoch 29: New best model saved to models2/ft_layer4.pth with Val Acc: 0.3904\n"
     ]
    },
    {
     "name": "stderr",
     "output_type": "stream",
     "text": [
      "Training ResNet: 100%|██████████████████████████| 30/30 [03:54<00:00,  7.80s/it]\n"
     ]
    },
    {
     "data": {
      "text/html": [],
      "text/plain": [
       "<IPython.core.display.HTML object>"
      ]
     },
     "metadata": {},
     "output_type": "display_data"
    },
    {
     "data": {
      "text/html": [
       "<br>    <style><br>        .wandb-row {<br>            display: flex;<br>            flex-direction: row;<br>            flex-wrap: wrap;<br>            justify-content: flex-start;<br>            width: 100%;<br>        }<br>        .wandb-col {<br>            display: flex;<br>            flex-direction: column;<br>            flex-basis: 100%;<br>            flex: 1;<br>            padding: 10px;<br>        }<br>    </style><br><div class=\"wandb-row\"><div class=\"wandb-col\"><h3>Run history:</h3><br/><table class=\"wandb\"><tr><td>train/loss</td><td>█▅▄▃▃▃▂▂▂▂▂▂▂▂▂▁▁▁▁▁▁▁▁▁▁▁▁▁▁▁</td></tr><tr><td>train/lr</td><td>█▇▇▆▅▅▅▄▄▃▃▃▃▃▂▂▂▂▂▂▂▁▁▁▁▁▁▁▁▁</td></tr><tr><td>val/accuracy</td><td>▁▂▃▄▅▅▆▆▆▆▇▇▇▇▇▇▇▇█▇▇█████████</td></tr><tr><td>val/loss</td><td>█▆▅▄▄▃▃▃▂▂▂▂▂▂▂▂▁▁▁▁▁▁▁▁▁▁▁▁▁▁</td></tr></table><br/></div><div class=\"wandb-col\"><h3>Run summary:</h3><br/><table class=\"wandb\"><tr><td>train/loss</td><td>2.29573</td></tr><tr><td>train/lr</td><td>0.00047</td></tr><tr><td>val/accuracy</td><td>0.3866</td></tr><tr><td>val/loss</td><td>2.2962</td></tr></table><br/></div></div>"
      ],
      "text/plain": [
       "<IPython.core.display.HTML object>"
      ]
     },
     "metadata": {},
     "output_type": "display_data"
    },
    {
     "data": {
      "text/html": [
       " View run <strong style=\"color:#cdcd00\">ResNet_ft_layer4.pth</strong> at: <a href='https://wandb.ai/alessandraspin-universit-di-firenze/LAB1-ex2/runs/9to6vqhz' target=\"_blank\">https://wandb.ai/alessandraspin-universit-di-firenze/LAB1-ex2/runs/9to6vqhz</a><br> View project at: <a href='https://wandb.ai/alessandraspin-universit-di-firenze/LAB1-ex2' target=\"_blank\">https://wandb.ai/alessandraspin-universit-di-firenze/LAB1-ex2</a><br>Synced 5 W&B file(s), 0 media file(s), 0 artifact file(s) and 0 other file(s)"
      ],
      "text/plain": [
       "<IPython.core.display.HTML object>"
      ]
     },
     "metadata": {},
     "output_type": "display_data"
    },
    {
     "data": {
      "text/html": [
       "Find logs at: <code>./wandb/run-20250826_141404-9to6vqhz/logs</code>"
      ],
      "text/plain": [
       "<IPython.core.display.HTML object>"
      ]
     },
     "metadata": {},
     "output_type": "display_data"
    },
    {
     "name": "stdout",
     "output_type": "stream",
     "text": [
      "\n",
      "--- FINISHED TRAINING. Best Val Acc: 0.3904 ---\n"
     ]
    }
   ],
   "source": [
    "from torch import nn\n",
    "\n",
    "# --- Strategy 2.1: Fine-tune only the classifier (with Adam) ---\n",
    "print(\"\\n--- Strategy 2.1: Fine-tune only the classifier (with Adam) ---\")\n",
    "model_ft_1 = get_resnet18_for_cifar(num_classes=10)\n",
    "model_ft_1.load_state_dict(torch.load(pretrain_save_path))\n",
    "\n",
    "# Congelo tutto\n",
    "for param in model_ft_1.parameters():\n",
    "    param.requires_grad = False\n",
    "# Rimpiazzo la fc (di default allenabile)\n",
    "model_ft_1.fc = nn.Linear(model_ft_1.fc.in_features, 100)\n",
    "model_ft_1 = model_ft_1.to(device)\n",
    "\n",
    "ft1_config = parser.parse_args([])\n",
    "ft1_config.max_epoch = 30\n",
    "ft1_config.optimizer = 'Adam'\n",
    "ft1_config.dataset = 'CIFAR100_FT_Classifier'\n",
    "ft1_config.lr = 1e-3\n",
    "ft1_config.weight_decay = 5e-4\n",
    "\n",
    "ft1_accuracy = trainer_ft(\n",
    "    model_ft_1,\n",
    "    cifar100_train_loader,\n",
    "    cifar100_val_loader,\n",
    "    device,\n",
    "    \"models2/ft_classifier.pth\",\n",
    "    ft1_config\n",
    ") * 100\n",
    "\n",
    "\n",
    "# --- Strategy 2.2: Unfreeze classifier + last block (with SGD) ---\n",
    "print(\"\\n--- Strategy 2.2: Fine-tuning the classifier and last block (SGD) ---\")\n",
    "model_ft_2 = get_resnet18_for_cifar(num_classes=10)\n",
    "model_ft_2.load_state_dict(torch.load(pretrain_save_path))\n",
    "\n",
    "# Congelo tutto\n",
    "for param in model_ft_2.parameters():\n",
    "    param.requires_grad = False\n",
    "# Sblocco fc e layer4\n",
    "model_ft_2.fc = nn.Linear(model_ft_2.fc.in_features, 100)\n",
    "for param in model_ft_2.fc.parameters():\n",
    "    param.requires_grad = True\n",
    "for param in model_ft_2.layer4.parameters():\n",
    "    param.requires_grad = True\n",
    "model_ft_2 = model_ft_2.to(device)\n",
    "\n",
    "ft2_config = parser.parse_args([])\n",
    "ft2_config.max_epoch = 30\n",
    "ft2_config.optimizer = 'SGD'\n",
    "ft2_config.dataset = 'CIFAR100_FT_Layer4'\n",
    "ft2_config.lr = 1e-2     # più alto per tutta la parte sbloccata\n",
    "ft2_config.weight_decay = 5e-4\n",
    "\n",
    "ft2_accuracy = trainer_ft(\n",
    "    model_ft_2,\n",
    "    cifar100_train_loader,\n",
    "    cifar100_val_loader,\n",
    "    device,\n",
    "    \"models2/ft_layer4.pth\",\n",
    "    ft2_config\n",
    ") * 100\n"
   ]
  },
  {
   "cell_type": "code",
   "execution_count": 8,
   "id": "ece0dbe5",
   "metadata": {},
   "outputs": [
    {
     "name": "stdout",
     "output_type": "stream",
     "text": [
      "\n",
      "--- Accuracies Recap ---\n",
      "Baseline (Linear SVM) : 34.51%\n",
      "Baseline (KNN): 25.14%\n",
      "Fine-Tuning (only Classifier, Adam): 28.04%\n",
      "Fine-Tuning (Classifier + Layer4, SGD): 39.04%\n"
     ]
    }
   ],
   "source": [
    "print(\"\\n--- Accuracies Recap ---\")\n",
    "print(f\"Baseline (Linear SVM) : {svm_accuracy:.2f}%\")\n",
    "print(f\"Baseline (KNN): {knn_accuracy:.2f}%\")\n",
    "print(f\"Fine-Tuning (only Classifier, Adam): {ft1_accuracy:.2f}%\")\n",
    "print(f\"Fine-Tuning (Classifier + Layer4, SGD): {ft2_accuracy:.2f}%\")"
   ]
  }
 ],
 "metadata": {
  "kernelspec": {
   "display_name": "dla2025",
   "language": "python",
   "name": "python3"
  },
  "language_info": {
   "codemirror_mode": {
    "name": "ipython",
    "version": 3
   },
   "file_extension": ".py",
   "mimetype": "text/x-python",
   "name": "python",
   "nbconvert_exporter": "python",
   "pygments_lexer": "ipython3",
   "version": "3.13.5"
  }
 },
 "nbformat": 4,
 "nbformat_minor": 5
}
